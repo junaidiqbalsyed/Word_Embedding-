{
  "nbformat": 4,
  "nbformat_minor": 0,
  "metadata": {
    "colab": {
      "name": "Train Word to Vec from scratch",
      "provenance": [],
      "collapsed_sections": []
    },
    "kernelspec": {
      "name": "python3",
      "display_name": "Python 3"
    },
    "language_info": {
      "name": "python"
    }
  },
  "cells": [
    {
      "cell_type": "code",
      "metadata": {
        "id": "CjdqmVyBoifz"
      },
      "source": [
        "import warnings\n",
        "\n",
        "warnings.filterwarnings('ignore')"
      ],
      "execution_count": 1,
      "outputs": []
    },
    {
      "cell_type": "code",
      "metadata": {
        "id": "BpyFgS6JcWLx",
        "colab": {
          "base_uri": "https://localhost:8080/"
        },
        "outputId": "a56ab573-6558-4966-e701-cb54e4506259"
      },
      "source": [
        "import nltk\n",
        "nltk.download('punkt')\n",
        "from nltk.corpus import stopwords\n",
        "nltk.download('stopwords')"
      ],
      "execution_count": 2,
      "outputs": [
        {
          "output_type": "stream",
          "text": [
            "[nltk_data] Downloading package punkt to /root/nltk_data...\n",
            "[nltk_data]   Package punkt is already up-to-date!\n",
            "[nltk_data] Downloading package stopwords to /root/nltk_data...\n",
            "[nltk_data]   Package stopwords is already up-to-date!\n"
          ],
          "name": "stdout"
        },
        {
          "output_type": "execute_result",
          "data": {
            "text/plain": [
              "True"
            ]
          },
          "metadata": {
            "tags": []
          },
          "execution_count": 2
        }
      ]
    },
    {
      "cell_type": "code",
      "metadata": {
        "id": "MTfsnBRIjeNI"
      },
      "source": [
        "stopword = set(stopwords.words('english') )\n",
        "#stopword"
      ],
      "execution_count": 3,
      "outputs": []
    },
    {
      "cell_type": "markdown",
      "metadata": {
        "id": "gllbPLZlhric"
      },
      "source": [
        "# Data Preprocessing"
      ]
    },
    {
      "cell_type": "code",
      "metadata": {
        "id": "SKQSIa2hhrSX"
      },
      "source": [
        "\n",
        "## Read the file \n",
        "def readFile(file): \n",
        "    f = open(file,'r',encoding='utf-8')\n",
        "    text = f.read()\n",
        "    sentences = nltk.sent_tokenize(text)\n",
        "    \n",
        "    data = []\n",
        "    for sent in sentences:\n",
        "        words =  nltk.word_tokenize(sent)\n",
        "        words = [w.lower() for w in words if len(w)>2 and w not in stopword]\n",
        "        data.append(words)\n",
        "        \n",
        "    return data"
      ],
      "execution_count": 4,
      "outputs": []
    },
    {
      "cell_type": "code",
      "metadata": {
        "colab": {
          "base_uri": "https://localhost:8080/"
        },
        "id": "uDAfV04RU4ha",
        "outputId": "e7c9e02e-8d10-4bf8-e5bb-ba66b62fb48b"
      },
      "source": [
        "\n",
        "file = \"/content/Word_data_set.txt\"\n",
        "text = readFile(file)\n",
        "\n",
        "print(text)"
      ],
      "execution_count": 5,
      "outputs": [
        {
          "output_type": "stream",
          "text": [
            "[['deepika', 'padukone', 'ranveer', 'singh', 'wedding', 'one', 'biggest', 'bollywood', 'events', 'happened', '2018'], ['the', 'deepveer', 'celebrations', 'hooked', 'phones', 'waiting', 'come', 'also', 'gave', 'enough', 'reason', 'believe', 'stylish', 'two', 'couple'], ['from', 'airport', 'looks', 'reception', 'parties', 'everything', 'entire', 'timeline', 'ranveer', 'wedding', 'style', 'file'], ['not', 'ambanis', 'deepika', 'ranveer', 'priyanka', 'nick'], ['man', 'proves', 'wedding', 'the', 'year', 'this', 'year', 'year', 'big', 'fat', 'lavish', 'extravagant', 'weddings'], ['from', 'isha', 'ambani', 'anand', 'piramal', 'deepika', 'padukone', 'ranveer', 'singh', 'priyanka', 'chopra', 'nick', 'jonas', 'kapil', 'sharma', 'ginni', 'chatrath', '2018', 'saw', 'many', 'grand', 'weddings'], ['but', 'nothing', 'beats', 'man', 'wedding', 'the', 'year', 'award', 'social', 'media'], ['the', 'wedding', 'season', 'year', 'kicked', 'deepika', 'padukone', 'ranveer', 'singh', 'flew', 'lake', 'como', 'tie', 'knot', 'two', 'days', 'november'], ['they', 'several', 'lavish', 'wedding', 'reception', 'parties', 'bengaluru', 'mumbai'], ['even', 'deepika', 'ranveer', 'wedding', 'reception', 'parties', 'continued', 'priyanka', 'chopra', 'tied', 'knot', 'american', 'singer', 'nick', 'jonas', 'jodhpur', 'december', 'yet', 'another', 'grand', 'wedding', 'spread', 'week'], ['priyanka', 'nick', 'hosted', 'reception', 'parties', 'delhi', 'december', 'mumbai', 'december'], ['the', 'couple', 'yet', 'host', 'another', 'reception', 'party', 'los', 'angeles'], ['time', 'priyanka', 'chopra', 'nick', 'jonas', 'could', 'move', 'wedding', 'reception', 'parties', 'mukesh', 'nita', 'ambani', 'daughter', 'isha', 'ambani', 'ajay', 'swati', 'piramal', 'son', 'anand', 'piramal', 'pre-wedding', 'festivities', 'took', 'udaipur'], ['this', 'december'], ['the', 'two-day', 'events', 'udaipur', 'culminated', 'performance', 'american', 'pop', 'sensation', 'beyonce'], ['and', 'soon', 'december', 'isha', 'anand', 'tied', 'knot', 'antilia', 'mumbai', 'event', 'followed', 'three', 'reception', 'parties'], ['three', 'high-profile', 'weddings', 'several', 'stars', 'tied', 'knot'], ['star', 'kapil', 'sharma', 'married', 'ginni', 'chatrath', 'ace', 'badminton', 'player', 'saina', 'nehwal', 'parupalli', 'kashyap', 'tied', 'knot', 'cricketer', 'sanju', 'samson', 'married', 'college', 'sweetheart', 'charulatha'], ['but', 'wedding', 'rizwan', 'pehelwan', 'much', 'like', 'many', 'couples', 'close-knit', 'weddings', 'year', 'probably', 'took', 'wedding', 'cake'], ['deepika', 'ranveer', 'known', 'airport', 'twinning', 'appearances', 'surprise', 'see', 'twin', 'white', 'left', 'destination', 'wedding', 'italy'], ['deepika', 'ranveer', 'two', 'wedding', 'ceremonies', 'everyone', 'knows', 'one', 'sindhi', 'konkani'], ['for', 'sindhi', 'wedding', 'seen', 'wearing', 'custom-made', 'sabyasachi', 'ensembles', 'traditional', 'gorgeous', 'silk', 'saree', 'deepika', 'ranveer', 'white', 'silk', 'kurta', 'gorgeous', 'backdrop', 'lake', 'como', 'italy', 'perfect'], ['the', 'couple', 'seen', 'sabyasachi', 'yet', 'made', 'way', 'back', 'bay', 'celebrating', 'union', 'italy'], ['love', 'two', 'wore', 'neutral', 'colours', 'added', 'pop', 'dupatta', 'waistcoat'], ['the', 'celebrations', 'began', 'bangalore', 'reception', 'deepika', 'seen', 'stunning', 'sabyasachi', 'saree', 'ranveer', 'sherwani'], ['the', 'celebrations', 'began', 'bangalore', 'reception', 'deepika', 'dressed', 'stunning', 'sabyasachi', 'saree', 'ranveer', 'sherwani'], ['ranveer', 'handcrafted', 'anti-fit', 'long', 'silk', 'jacket', 'manish', 'arora', 'signature', 'heart', 'motif', 'complete', 'leopard', 'head', 'attached', 'right', 'shoulder'], ['deepika', 'flowed', 'vibe', 'fully', 'floral', 'sabyasachi', 'saree', 'wowed'], ['deepika', 'wearing', 'gorgeous', 'chikankari', 'creation', 'abu', 'jani', 'sandeep', 'khosla', 'ranveer', 'wore', 'custom-made', 'sherwani'], ['newlywed', 'power', 'couple', 'priyanka', 'chopra', 'nick', 'jonas', 'cloud', 'nine', 'fairytale', 'wedding', 'three', 'back-to-back', 'wedding', 'receptions'], ['the', 'couple', 'tied', 'knot', 'umaid', 'bhawan', 'palace', 'jodhpur', 'december', 'private', 'wedding', 'affair'], ['since', 'world', \"n't\", 'get', 'pictures', 'bollywood-hollywood', 'couple'], ['and', 'thought', 'got', 'wedding', 'galore', 'eyes', 'felt', 'beautiful', 'pictures', 'couple'], ['both', 'priyanka', 'nick', 'looking', 'extremely', 'gorgeous', 'pictures'], ['man', 'moment', 'nick', 'jonas', 'perfectly', 'complements', 'lady', 'love', 'priyanka', 'corners'], ['and', 'priyanka', 'smile', 'make', 'everybody', 'fall'], ['after', 'four', 'days', 'wedding', 'festivities', 'topped', 'three', 'receptions', 'party', 'still', 'newlyweds', 'priyanka', 'chopra', 'nick', 'jonas'], ['the', 'couple', 'tied', 'knot', 'december', 'elaborate', 'ceremonies', 'reportedly', 'host', 'big', 'bash', 'los', 'angeles', 'hollywood', 'friends'], ['according', 'reports', 'rounds', 'couple', 'allegedly', 'host', 'black-tie', 'event', 'priyanka', 'close', 'friends', 'like', 'kerry', 'washington', 'dwayne', 'johnson', 'ellen', 'degeneres', 'among', 'co-stars', 'many', 'films', 'show', 'quantico'], ['reports', 'even', 'suggest', 'pregnant', 'duchess', 'sussex-', 'meghan', 'markle', 'also', 'received', 'invite'], ['meanwhile', 'nick', 'friends', 'music', 'industry', 'also', 'expected', 'join', 'festivities'], ['priyanka', 'chopra', 'nick', 'jonas', 'got', 'married', 'month', 'jodhpur', 'umaid', 'bhawan', 'palace'], ['less', 'fairytale', 'wedding'], ['after', 'dating', 'months', 'duo', 'decided', 'take', 'relationship', 'next', 'level'], ['and', 'got', 'man', 'looking'], ['now', 'nick', 'took', 'instagram', 'story', 'express', 'amazing', 'year', 'posting', 'collage', 'pictures', 'best', 'moments', 'bollywood', 'diva', 'took', 'place', 'year'], ['and', 'adorable', 'would', 'understatement'], ['nick', 'jonas', 'priyanka', 'chopra', 'dominated', 'social', 'media', 'since', 'time', 'announced', 'relationship', 'since', 'giving', 'major', 'couple', 'goals'], ['the', 'couple', 'tied', 'knot', 'umaid', 'bhawan', 'palace', 'jodhpur', 'per', 'hindu', 'christian', 'traditions', 'raised', 'bar', 'next', 'level'], ['thought', 'seen', 'wedding', 'another', 'adorable', 'picture', 'nickyanka', 'fairytale', 'wedding', 'celebrations', 'wherein', 'see', 'nick', 'escorting', 'ladylove'], ['hours', 'ago', 'peecee', 'taken', 'instagram', 'share', 'picture', 'hubby', 'wherein', 'could', 'seen', 'posing', 'bollywood', 'style', 'nick', 'holding', 'wife', 'arms'], ['priyanka', 'chopra', 'nick', 'jonas', 'become', 'one', 'loved', 'couples', 'bollywood'], ['the', 'two', 'always', 'look', 'simply', 'adorable', 'together', 'latest', 'picture', 'couple', 'proof'], ['got', 'hands', 'picture', 'priyanka', 'nick', 'captured', 'candidly', 'flight', 'journey', 'together'], ['picture', 'peecee', 'seen', 'fidgeting', 'something', 'nick', 'looks'], ['the', 'dim', 'light', 'background', 'light', 'face', 'window', 'give', 'picture', 'vintage', 'look'], ['priyanka', 'nick', 'took', 'nuptial', 'vows', 'umaid', 'bhavan', 'palace', 'udaipur', 'presence', 'families', 'friends'], ['the', 'two', 'honoured', 'cultures', 'wedding'], ['after', 'lavish', 'wedding', 'also', 'threw', 'grand', 'wedding', 'reception', 'delhi', 'graced', 'narendra', 'modi'], ['bollywood', 'diva', 'priyanka', 'chopra', 'american', 'pop', 'singer', 'nick', 'jonas', 'got', 'married', 'jodhpur', 'umaid', 'bhawan', 'palace', 'december'], ['the', 'couple', 'sharing', 'pictures', 'socials', 'media', 'giving', 'major', 'couple', 'goals'], ['recently', 'took', 'instagram', 'post', 'picture', 'nick', 'photo', 'shoot', 'took', 'place', 'wedding'], ['she', 'captioned', 'image', 'look', 'wonder', 'lies', 'ahead..', 'filled', 'joy..', 'after', 'mesmerising', 'fans', 'followers', 'love', 'story', 'lavish', 'wedding', 'bollywood', 'actress', 'priyanka', 'chopra', 'nick', 'jonas', 'yesterday', 'flew', 'back', 'america'], ['recently', 'shared', 'picture', 'adorable', 'nieces', 'cute', 'words'], ['the', 'singer', 'actor', 'took', 'instagram', 'handle', 'share', 'picture', 'see', 'working', 'magic', 'keys', 'piano', 'along', 'two', 'beautiful', 'nieces', 'seem', 'teaching', 'play'], ['captioned', 'picture', 'beautiful', 'nieces', 'teaching', 'everything', 'know', 'keys'], ['the', 'couple', 'got', 'hitched', 'umaid', 'bhavan', 'palace', 'jodhpur', 'always', 'open', 'idea', 'kids', 'starting', 'family'], ['speaking', 'nick', 'reportedly', 'said', 'definitely', 'wants', 'father', 'someday'], ['even', 'rumours', 'nick', 'jonas', 'priyanka', 'chopra', 'relationship', 'two', 'gave', 'major', 'couple', 'goals'], ['and', 'lovebirds', 'actually', 'called', 'official', 'tying', 'knot', 'bar', 'set', 'higher'], ['giving', 'serious', 'couple', 'goals', 'nick', 'jonas', 'taken', 'social', 'media', 'handle', 'share', 'adorable', 'picture', 'priyanka', 'chopra', 'christian', 'wedding'], ['the', 'picture', 'features', 'newlyweds', 'cutting', 'huge', 'scrumptious', 'look', 'wedding', 'cake'], ['captioned', 'picture', 'one', 'week', 'ago', 'today'], ['the', 'beautiful', 'couple', 'recently', 'seen', 'pairing', 'ethnic', 'ensemble', 'isha', 'ambani', 'anand', 'piramal', 'pre-wedding', 'festivity', 'cricketer', 'virat', 'kohli', 'wife', 'actor', 'anushka', 'sharma', 'spending', 'new', 'year', 'holiday', 'sydney', 'australia', 'shared', 'new', 'photos', 'give', 'glimpse', 'fans', 'celebrations', 'like'], ['standing', 'street', 'looked', 'ready', 'party', 'couple', 'looks', 'directly', 'camera'], ['anushka', 'shared', 'another', 'photos', 'seen', 'posing', 'husband'], ['busy', 'year', 'virat', 'anushka'], ['while', 'actor', 'three', 'releases', 'year', 'production', 'pari', 'sui', 'dhaaga', 'co-starring', 'varun', 'dhawan', 'zero', 'played', 'scientist', 'cerebral', 'palsy', 'virat', 'maintained', 'pole', 'position', 'year-end', 'icc', 'test', 'player', 'rankings'], ['india', 'also', 'taken', '2-1', 'lead', 'four-match', 'series', 'australia', 'ongoing', 'test', 'series'], ['rajput/instagram', 'from', 'kareena', 'kapoor', 'khan', 'anushka', 'sharma', 'sonam', 'kapoor', 'arjun', 'kapoor', 'rajkummar', 'rao', 'among', 'others', 'b-town', 'celebrities', 'spent', 'new', 'year', 'loved', 'ones'], ['alia', 'bhatt', 'joined', 'ranbir', 'kapoor', 'family', 'celebrate', 'new', 'year'], ['ranbir', 'sister', 'riddhima', 'kapoor', 'sahni', 'shared', 'sneak', 'peek', 'celebrations'], ['also', 'saw', 'mira', 'rajput', 'posting', 'perfect', 'family', 'portrait', 'instagram', 'wishing', 'followers', 'shahid', 'kapoor', 'fans', 'happy', 'new', 'year'], ['neetu', 'kapoor', 'shared', 'photo', 'instagram', 'hoped', '2019', 'step', 'closer', 'times', 'cancer', 'zodiac', 'sign', 'happy', '2019', 'resolutions', 'wishes', 'year'], ['less', 'pollution', 'traffic'], ['hope', 'future', 'cancer', 'zodiac', 'sign'], ['hatred', 'less', 'poverty', 'loads', 'love', 'togetherness', 'happiness', 'imp'], ['good', 'health', 'anushka', 'sharma', 'sydney', 'virat', 'kohli', 'wrote', 'hope', 'wake', 'new', 'year', 'filled', 'hope', 'peace', 'compassion', 'may', 'strive', 'kinder', 'one', 'another', 'illuminate', 'light', 'beauty', 'resides', 'within', 'happy', 'new', 'year', 'another', 'photo', 'alia', 'looks', 'extremely', 'happy', 'company', 'ranbir', 'family'], ['source', 'riddhima', 'kapoor', 'sahni/', 'instagram', 'weird', 'news', '2019', 'dosa', 'named', 'deepika', 'padukone', 'texas'], ['the', 'actor', 'retweeted', 'fan', 'post', 'dosa', 'saying', 'great', 'way', 'begin', 'year', '...', 'happy', 'new', 'year', 'the', 'dosa', 'comes', 'potato', 'mix', 'topped', 'fiery', 'red', 'ghost', 'chillis'], ['deepika', 'padukone', 'deepikapadukone', 'great', 'way', 'begin', 'year', '...', 'happy', 'new', 'year', '😁❤️😁', 'deepika', 'padukone', 'deepikapfc', 'haha', 'deepikapadukone', 'gon', 'love', 'https', '//twitter.com/sailee_rk/status/1079964902268141568', 'ranveer', 'deepika', 'present', 'honeymoon', 'tying', 'knot', 'november', 'last', 'year', 'italy', 'lake', 'como'], ['the', 'couple', 'went', 'host', 'three', 'wedding', 'receptions', 'mumbai', 'bengaluru'], ['ranveer', 'occupied', 'promotion', 'film', 'simmba', 'already', 'made', '100', 'crore', 'box', 'office'], ['interview', 'actor', 'said', 'relationship', 'deepika', 'she', 'seeing', 'six', 'years'], ['period', 'time', 'grown', 'evolved', 'together'], ['deepika', 'person', 'used', 'six', 'years', 'back', 'neither'], ['our', 'growth', 'evolution', 'happened', 'stayed', 'connected'], ['evolution', 'human', 'beings', 'happened', 'together'], ['really', 'stronger', 'ever', 'before.', 'ranveer', 'singh', 'phenomenal', '2018'], ['terms', 'box', 'office', 'revenue', 'biggest', 'star', 'year', 'two', 'films', 'made', '400', 'crore', 'box', 'office', 'number', 'set', 'high', 'simmba', 'still', 'wreaking', 'havoc', 'box', 'office'], ['his', 'upcoming', 'february', 'release', 'gully', 'boy', 'selected', 'berlin', 'film', 'festival'], ['and', 'turned', 'new', 'leaf', 'life', 'married', 'india', 'top', 'superstar', 'deepika', 'padukone'], ['further', 'talking', 'much', 'talked', 'marriage', 'deepika', 'padukone', 'ranveer', 'added', 'despite', 'biggest', 'blockbuster', 'padmaavat', 'herogiri', 'simmba', 'appreciated', 'one', 'believes', 'marriage', 'deepika', 'padukone', 'life', 'biggest', 'achievement'], ['also', 'added', 'feels', 'superpower', 'feels', 'invincible', 'protected', 'knowing', 'deepika', 'side', 'cares'], ['deepika', 'padukone', 'reveals', 'relationship', 'ranveer', 'singh', 'evolved', 'years', 'deepika', 'padukone', 'ranveer', 'singh', 'currently', 'one', 'talked', 'couples', 'bollywood'], ['the', 'duo', 'lately', 'dodging', 'questions', 'related', 'marriage.in', 'recent', 'interview', 'femina', 'magazine', 'actress', 'asked', 'relationship', 'ranveer', 'singh', 'evolved', 'years', 'reportedly', 'replied', 'connect', 'people', 'lives', 'relationship', 'bound', 'evolve', 'ranveer', 'feel', 'connection'], ['she', 'said', 'feels', 'great', 'find', 'ranveer', 'someone', 'depended', 'upon', 'trusted', 'someone', 'puts', 'others'], ['adding', 'said', 'fun', 'honest'], ['she', 'considers', 'best', 'friend.meanwhile', 'work', 'front', 'actress', 'set', 'work', 'alongside', 'meghna', 'gulzar', 'untitled', 'next', 'ranveer', 'working', \"'simmba\", \"'gully\", 'boy', 'karan', 'johar', 'magnum', 'opus', \"'takht\"], ['when', 'ranveer', 'singh', 'said', 'working', 'towards', 'becoming', 'husband', 'millennium', 'joking'], ['after', 'letting', 'deepika', 'padukone', 'take', 'reins', 'intimate', 'wedding', 'italy', 'celebrations', 'followed', 'hunk', 'earning', 'major', 'husband', 'points', 'putting', 'wife', 'first', 'ways'], ['following', 'advice', 'say', 'yes', 'everything', 'says', 'star', 'recently', 'opened', 'embracing', 'fatherhood', 'near', 'future'], ['speaking', 'news', 'portal', 'spilled', 'beans', 'starting', 'family', 'superstar', 'wife', 'reportedly', 'said', 'partly', 'call', 'mostly', 'deepika', 'decision', 'respect'], ['meanwhile', 'deepika', 'recently', 'spoke', 'couple', 'honeymoon', 'plans', 'revealed', 'planned', 'anything', 'yet', 'currently', 'busy', 'ranveer', 'simmba', 'promotions'], ['one', 'spoken', 'weddings', 'last', 'year', 'ranve', 'deepika', 'padukone', 'ranveer', 'singh', 'wedding', 'become', 'one', 'most-talked-about', 'bollywood', 'parties', '2018'], [], ['every', 'day', 'two', 'film', 'industry', 'biggest', 'stars', 'tie', 'knot', 'together', 'picturesque', 'location', 'lake', 'como'], ['ranveer', 'deepika', 'decided', 'take', 'relationship', 'next', 'level', 'six', 'years', 'dating', 'fans', 'friends', 'ecstatic'], ['though', 'ranveer', 'earlier', 'revealed', 'within', 'six', 'months', 'dating', 'knew', 'deepika', 'one', 'piku', 'actress', 'took', 'sweet', 'time', 'say', 'yes', 'marriage'], ['recently', 'deepika', 'interview', 'magazine', 'revealed', 'first', 'time', 'thought', 'marrying', 'ranveer'], ['thought', 'marrying', 'ranveer', 'padmaavat'], ['knew', 'going', 'happen', 'matter', 'time'], ['when', 'film', 'released', 'felt', 'correct'], ['course', 'ready', 'already', 'committed', 'projects'], [\"n't\", 'sure', 'able', 'take', 'time'], ['but', 'made', 'work', 'said', 'deepika'], ['deepika', 'ranveer', 'tied', 'knot', 'lake', 'como', 'italy', 'november', 'presence', 'family', 'close', 'friends'], ['two', 'weddings', 'five', 'receptions', 'later', 'newlyweds', 'finally', 'taken', 'honeymoon'], ['eepika', 'padukone', 'ranveer', 'singh', 'made', 'fans', 'hearts', 'melt', 'happiness', 'tied', 'knot', 'november', 'six', 'years', 'dating'], ['their', 'romance', 'bloomed', 'sets', 'goliyon', 'rasleela', 'ram', 'leela', 'grew', 'stronger', 'day'], ['for', 'longest', 'time', 'two', 'preferred', 'dodge', 'questions', 'relationship'], ['however', 'public', 'appearances', 'hand-holding', 'public', 'confirmed', 'speculation', 'true'], ['beginning', '2018', 'much', 'talk', 'engagement', 'supposed', 'happened', 'sri', 'lanka'], ['after', 'marriage', 'details', 'first', 'meeting', 'dates', 'trickling'], ['deepika', 'revealed', 'entertainment', 'portal', 'gotten', 'engaged', 'four', 'years', 'ago'], ['asked', 'thought', 'ranveer', 'special', 'said', 'yash', 'raj', 'flirting', 'like', 'nobody', 'business', 'dating', 'somebody', 'else', 'point', 'smiling', 'told', 'you', 'flirting', 'me.', 'deepika', 'also', 'revealed', 'used', 'frequent', 'restaurants', 'dating', 'special', 'moments', 'ram', 'leela', 'director', 'sanjay', 'leela', 'bhansali', 'house'], ['sir', 'called', 'lunch', 'eating', 'apparently', 'piece', 'crab', 'stuck', 'tooth', 'wanted', 'make', 'awkward', 'said', 'crab', 'stuck', 'mouth', 'said', 'then', 'take'], ['that', 'moment', 'three', 'forget', 'said'], ['ranveer', 'deepika', 'open', 'social-media', 'pda'], ['recently', 'deepika', 'announced', 'title', 'new', 'film', 'chhapaak', 'plays', 'acid', 'attack', 'survivor', 'laxmi', 'aggarwal', 'ranveer', 'praise'], ['commented', 'photo', 'saying', 'proud', 'baby'], ['ranveer', 'deepika', 'got', 'married', 'two', 'days', 'picturesque', 'villa', 'del', 'balbianello', 'italy'], ['their', 'traditional', 'konkani-style', 'nuptials', 'november', 'followed', 'anand', 'karaj', 'ceremony', 'november'], ['ranveer', 'deepika', 'hosted', 'three', 'receptions', 'one', 'actress', 'hometown', 'bengaluru', 'followed', 'two', 'parties', 'mumbai'], ['soon', 'wedding', 'festivities', 'came', 'end', 'ranveer', 'threw', 'promotions', 'rohit', 'shetty', 'simmba'], ['recent', 'interview', 'ranveer', 'opened', 'deepika', 'decided', 'one'], ['six', 'months', 'relationship', 'knew', 'one'], ['nurtured', 'relationship', 'accordingly'], ['six', 'years'], ['she', 'good', 'lovely'], ['she', 'force', 'nature'], ['understood', 'almost', 'immediately.'], ['added', 'lucky'], ['knew', 'well', 'woman', 'going', 'marry'], ['this', 'woman', 'would', 'become', 'mother', 'children'], ['thinking', 'marriage', 'seriously', 'almost', 'three', 'years'], ['waiting', 'told', 'minute', 'say'], ['b-town', 'excited', 'fairytale', 'wedding', 'ranveer', 'singh', 'deepika', 'padukone', 'ever', 'since', 'couple', 'announced', 'wedding', 'dates'], ['know', 'started', 'met', 'got', 'know', 'sets', 'first', 'film', 'sanjay', 'leela', 'bhansali', 'goliyon', 'rasleela', 'ram-leela', 'gulshan', 'devaiah', 'also', 'part', 'film', 'opened', 'recently', 'started', 'blossomed'], ['talking', 'love-story', 'reportedly', 'said', 'romance', 'started', 'sets', 'goliyon', 'rasleela', 'ram-leela', 'saw', 'getting', 'close', 'first', 'day', 'shoot'], ['also', 'said', 'still', 'remembers', 'udaipur', 'schedule', 'saw', 'deepika', 'sitting', 'ranveer', 'lap', 'surprised', 'quite', 'bit'], ['said', 'romance', 'come', 'long', 'way'], ['and', 'romance', 'fondest', 'memory', 'right', 'saw', 'himself.meanwhile', 'deepika', 'padukone', 'ranveer', 'singh', 'tie', 'knot', '14th', '15th', 'november', 'year'], ['ranveer', 'singh', 'one', 'loving', 'boyfriend', 'deepika', 'padukone', 'never', 'thought', 'twice', 'displaying', 'affection', 'husband', 'even', 'doting', 'supportive'], ['and', 'latest', 'comment', 'deepika', 'padukone', 'next', 'film', 'announcement', 'instagram', 'proof'], ['taking', 'social', 'media', 'handles', 'deepika', 'announced', 'upcoming', 'film', 'chhapaak', 'picture', 'quotation', 'read', 'story', 'trauma', 'triumph', 'unquashable', 'human', 'spirit'], ['lauding', 'choice', 'film', 'ranveer', 'took', 'comments', 'section', 'wrote', 'proud', 'you', 'baby']]\n"
          ],
          "name": "stdout"
        }
      ]
    },
    {
      "cell_type": "markdown",
      "metadata": {
        "id": "AOnwAMD9kQiv"
      },
      "source": [
        "# Creating our model "
      ]
    },
    {
      "cell_type": "code",
      "metadata": {
        "id": "VMTzHfV8kQMi"
      },
      "source": [
        "import gensim \n",
        "from gensim.models import Word2Vec\n",
        "\n",
        "from sklearn.metrics.pairwise import cosine_similarity"
      ],
      "execution_count": 6,
      "outputs": []
    },
    {
      "cell_type": "code",
      "metadata": {
        "colab": {
          "base_uri": "https://localhost:8080/"
        },
        "id": "9w5DKm9nheqA",
        "outputId": "63bb5492-ca51-4124-cdfe-291de05669b2"
      },
      "source": [
        "model = Word2Vec(text, size = 300, window=10, min_count=1 )\n",
        "print(model)"
      ],
      "execution_count": 7,
      "outputs": [
        {
          "output_type": "stream",
          "text": [
            "Word2Vec(vocab=915, size=300, alpha=0.025)\n"
          ],
          "name": "stdout"
        }
      ]
    },
    {
      "cell_type": "code",
      "metadata": {
        "colab": {
          "base_uri": "https://localhost:8080/"
        },
        "id": "eOzNMHCNmfgY",
        "outputId": "6fbccaf3-d6e3-4ddb-c6e4-fc52c88d91b0"
      },
      "source": [
        "vocab = list(model.wv.vocab)\n",
        "\n",
        "print(vocab)"
      ],
      "execution_count": 8,
      "outputs": [
        {
          "output_type": "stream",
          "text": [
            "['deepika', 'padukone', 'ranveer', 'singh', 'wedding', 'one', 'biggest', 'bollywood', 'events', 'happened', '2018', 'the', 'deepveer', 'celebrations', 'hooked', 'phones', 'waiting', 'come', 'also', 'gave', 'enough', 'reason', 'believe', 'stylish', 'two', 'couple', 'from', 'airport', 'looks', 'reception', 'parties', 'everything', 'entire', 'timeline', 'style', 'file', 'not', 'ambanis', 'priyanka', 'nick', 'man', 'proves', 'year', 'this', 'big', 'fat', 'lavish', 'extravagant', 'weddings', 'isha', 'ambani', 'anand', 'piramal', 'chopra', 'jonas', 'kapil', 'sharma', 'ginni', 'chatrath', 'saw', 'many', 'grand', 'but', 'nothing', 'beats', 'award', 'social', 'media', 'season', 'kicked', 'flew', 'lake', 'como', 'tie', 'knot', 'days', 'november', 'they', 'several', 'bengaluru', 'mumbai', 'even', 'continued', 'tied', 'american', 'singer', 'jodhpur', 'december', 'yet', 'another', 'spread', 'week', 'hosted', 'delhi', 'host', 'party', 'los', 'angeles', 'time', 'could', 'move', 'mukesh', 'nita', 'daughter', 'ajay', 'swati', 'son', 'pre-wedding', 'festivities', 'took', 'udaipur', 'two-day', 'culminated', 'performance', 'pop', 'sensation', 'beyonce', 'and', 'soon', 'antilia', 'event', 'followed', 'three', 'high-profile', 'stars', 'star', 'married', 'ace', 'badminton', 'player', 'saina', 'nehwal', 'parupalli', 'kashyap', 'cricketer', 'sanju', 'samson', 'college', 'sweetheart', 'charulatha', 'rizwan', 'pehelwan', 'much', 'like', 'couples', 'close-knit', 'probably', 'cake', 'known', 'twinning', 'appearances', 'surprise', 'see', 'twin', 'white', 'left', 'destination', 'italy', 'ceremonies', 'everyone', 'knows', 'sindhi', 'konkani', 'for', 'seen', 'wearing', 'custom-made', 'sabyasachi', 'ensembles', 'traditional', 'gorgeous', 'silk', 'saree', 'kurta', 'backdrop', 'perfect', 'made', 'way', 'back', 'bay', 'celebrating', 'union', 'love', 'wore', 'neutral', 'colours', 'added', 'dupatta', 'waistcoat', 'began', 'bangalore', 'stunning', 'sherwani', 'dressed', 'handcrafted', 'anti-fit', 'long', 'jacket', 'manish', 'arora', 'signature', 'heart', 'motif', 'complete', 'leopard', 'head', 'attached', 'right', 'shoulder', 'flowed', 'vibe', 'fully', 'floral', 'wowed', 'chikankari', 'creation', 'abu', 'jani', 'sandeep', 'khosla', 'newlywed', 'power', 'cloud', 'nine', 'fairytale', 'back-to-back', 'receptions', 'umaid', 'bhawan', 'palace', 'private', 'affair', 'since', 'world', \"n't\", 'get', 'pictures', 'bollywood-hollywood', 'thought', 'got', 'galore', 'eyes', 'felt', 'beautiful', 'both', 'looking', 'extremely', 'moment', 'perfectly', 'complements', 'lady', 'corners', 'smile', 'make', 'everybody', 'fall', 'after', 'four', 'topped', 'still', 'newlyweds', 'elaborate', 'reportedly', 'bash', 'hollywood', 'friends', 'according', 'reports', 'rounds', 'allegedly', 'black-tie', 'close', 'kerry', 'washington', 'dwayne', 'johnson', 'ellen', 'degeneres', 'among', 'co-stars', 'films', 'show', 'quantico', 'suggest', 'pregnant', 'duchess', 'sussex-', 'meghan', 'markle', 'received', 'invite', 'meanwhile', 'music', 'industry', 'expected', 'join', 'month', 'less', 'dating', 'months', 'duo', 'decided', 'take', 'relationship', 'next', 'level', 'now', 'instagram', 'story', 'express', 'amazing', 'posting', 'collage', 'best', 'moments', 'diva', 'place', 'adorable', 'would', 'understatement', 'dominated', 'announced', 'giving', 'major', 'goals', 'per', 'hindu', 'christian', 'traditions', 'raised', 'bar', 'picture', 'nickyanka', 'wherein', 'escorting', 'ladylove', 'hours', 'ago', 'peecee', 'taken', 'share', 'hubby', 'posing', 'holding', 'wife', 'arms', 'become', 'loved', 'always', 'look', 'simply', 'together', 'latest', 'proof', 'hands', 'captured', 'candidly', 'flight', 'journey', 'fidgeting', 'something', 'dim', 'light', 'background', 'face', 'window', 'give', 'vintage', 'nuptial', 'vows', 'bhavan', 'presence', 'families', 'honoured', 'cultures', 'threw', 'graced', 'narendra', 'modi', 'sharing', 'socials', 'recently', 'post', 'photo', 'shoot', 'she', 'captioned', 'image', 'wonder', 'lies', 'ahead..', 'filled', 'joy..', 'mesmerising', 'fans', 'followers', 'actress', 'yesterday', 'america', 'shared', 'nieces', 'cute', 'words', 'actor', 'handle', 'working', 'magic', 'keys', 'piano', 'along', 'seem', 'teaching', 'play', 'know', 'hitched', 'open', 'idea', 'kids', 'starting', 'family', 'speaking', 'said', 'definitely', 'wants', 'father', 'someday', 'rumours', 'lovebirds', 'actually', 'called', 'official', 'tying', 'set', 'higher', 'serious', 'features', 'cutting', 'huge', 'scrumptious', 'today', 'pairing', 'ethnic', 'ensemble', 'festivity', 'virat', 'kohli', 'anushka', 'spending', 'new', 'holiday', 'sydney', 'australia', 'photos', 'glimpse', 'standing', 'street', 'looked', 'ready', 'directly', 'camera', 'husband', 'busy', 'while', 'releases', 'production', 'pari', 'sui', 'dhaaga', 'co-starring', 'varun', 'dhawan', 'zero', 'played', 'scientist', 'cerebral', 'palsy', 'maintained', 'pole', 'position', 'year-end', 'icc', 'test', 'rankings', 'india', '2-1', 'lead', 'four-match', 'series', 'ongoing', 'rajput/instagram', 'kareena', 'kapoor', 'khan', 'sonam', 'arjun', 'rajkummar', 'rao', 'others', 'b-town', 'celebrities', 'spent', 'ones', 'alia', 'bhatt', 'joined', 'ranbir', 'celebrate', 'sister', 'riddhima', 'sahni', 'sneak', 'peek', 'mira', 'rajput', 'portrait', 'wishing', 'shahid', 'happy', 'neetu', 'hoped', '2019', 'step', 'closer', 'times', 'cancer', 'zodiac', 'sign', 'resolutions', 'wishes', 'pollution', 'traffic', 'hope', 'future', 'hatred', 'poverty', 'loads', 'togetherness', 'happiness', 'imp', 'good', 'health', 'wrote', 'wake', 'peace', 'compassion', 'may', 'strive', 'kinder', 'illuminate', 'beauty', 'resides', 'within', 'company', 'source', 'sahni/', 'weird', 'news', 'dosa', 'named', 'texas', 'retweeted', 'fan', 'saying', 'great', 'begin', '...', 'comes', 'potato', 'mix', 'fiery', 'red', 'ghost', 'chillis', 'deepikapadukone', '😁❤️😁', 'deepikapfc', 'haha', 'gon', 'https', '//twitter.com/sailee_rk/status/1079964902268141568', 'present', 'honeymoon', 'last', 'went', 'occupied', 'promotion', 'film', 'simmba', 'already', '100', 'crore', 'box', 'office', 'interview', 'seeing', 'six', 'years', 'period', 'grown', 'evolved', 'person', 'used', 'neither', 'our', 'growth', 'evolution', 'stayed', 'connected', 'human', 'beings', 'really', 'stronger', 'ever', 'before.', 'phenomenal', 'terms', 'revenue', '400', 'number', 'high', 'wreaking', 'havoc', 'his', 'upcoming', 'february', 'release', 'gully', 'boy', 'selected', 'berlin', 'festival', 'turned', 'leaf', 'life', 'top', 'superstar', 'further', 'talking', 'talked', 'marriage', 'despite', 'blockbuster', 'padmaavat', 'herogiri', 'appreciated', 'believes', 'achievement', 'feels', 'superpower', 'invincible', 'protected', 'knowing', 'side', 'cares', 'reveals', 'currently', 'lately', 'dodging', 'questions', 'related', 'marriage.in', 'recent', 'femina', 'magazine', 'asked', 'replied', 'connect', 'people', 'lives', 'bound', 'evolve', 'feel', 'connection', 'find', 'someone', 'depended', 'upon', 'trusted', 'puts', 'adding', 'fun', 'honest', 'considers', 'friend.meanwhile', 'work', 'front', 'alongside', 'meghna', 'gulzar', 'untitled', \"'simmba\", \"'gully\", 'karan', 'johar', 'magnum', 'opus', \"'takht\", 'when', 'towards', 'becoming', 'millennium', 'joking', 'letting', 'reins', 'intimate', 'hunk', 'earning', 'points', 'putting', 'first', 'ways', 'following', 'advice', 'say', 'yes', 'says', 'opened', 'embracing', 'fatherhood', 'near', 'portal', 'spilled', 'beans', 'partly', 'call', 'mostly', 'decision', 'respect', 'spoke', 'plans', 'revealed', 'planned', 'anything', 'promotions', 'spoken', 'ranve', 'most-talked-about', 'every', 'day', 'picturesque', 'location', 'ecstatic', 'though', 'earlier', 'knew', 'piku', 'sweet', 'marrying', 'going', 'happen', 'matter', 'released', 'correct', 'course', 'committed', 'projects', 'sure', 'able', 'five', 'later', 'finally', 'eepika', 'hearts', 'melt', 'their', 'romance', 'bloomed', 'sets', 'goliyon', 'rasleela', 'ram', 'leela', 'grew', 'longest', 'preferred', 'dodge', 'however', 'public', 'hand-holding', 'confirmed', 'speculation', 'true', 'beginning', 'talk', 'engagement', 'supposed', 'sri', 'lanka', 'details', 'meeting', 'dates', 'trickling', 'entertainment', 'gotten', 'engaged', 'special', 'yash', 'raj', 'flirting', 'nobody', 'business', 'somebody', 'else', 'point', 'smiling', 'told', 'you', 'me.', 'frequent', 'restaurants', 'director', 'sanjay', 'bhansali', 'house', 'sir', 'lunch', 'eating', 'apparently', 'piece', 'crab', 'stuck', 'tooth', 'wanted', 'awkward', 'mouth', 'then', 'that', 'forget', 'social-media', 'pda', 'title', 'chhapaak', 'plays', 'acid', 'attack', 'survivor', 'laxmi', 'aggarwal', 'praise', 'commented', 'proud', 'baby', 'villa', 'del', 'balbianello', 'konkani-style', 'nuptials', 'karaj', 'ceremony', 'hometown', 'came', 'end', 'rohit', 'shetty', 'nurtured', 'accordingly', 'lovely', 'force', 'nature', 'understood', 'almost', 'immediately.', 'lucky', 'well', 'woman', 'marry', 'mother', 'children', 'thinking', 'seriously', 'minute', 'excited', 'started', 'met', 'ram-leela', 'gulshan', 'devaiah', 'part', 'blossomed', 'love-story', 'getting', 'remembers', 'schedule', 'sitting', 'lap', 'surprised', 'quite', 'bit', 'fondest', 'memory', 'himself.meanwhile', '14th', '15th', 'loving', 'boyfriend', 'never', 'twice', 'displaying', 'affection', 'doting', 'supportive', 'comment', 'announcement', 'taking', 'handles', 'quotation', 'read', 'trauma', 'triumph', 'unquashable', 'spirit', 'lauding', 'choice', 'comments', 'section']\n"
          ],
          "name": "stdout"
        }
      ]
    },
    {
      "cell_type": "markdown",
      "metadata": {
        "id": "QsAV14uqlH34"
      },
      "source": [
        "# Testing Our Model"
      ]
    },
    {
      "cell_type": "code",
      "metadata": {
        "id": "h9UcXCVXs-jZ"
      },
      "source": [
        "\n",
        "def predict_actor(a,b,c,word_vectors):\n",
        "    \"\"\"Accepts a triad of words, a,b,c and returns d such that a is to b : c is to d\"\"\"\n",
        "    a,b,c = a.lower(),b.lower(),c.lower()\n",
        "    max_similarity = -100 \n",
        "    \n",
        "    d = None\n",
        "    words =  [\"ranveer\",\"deepika\",\"padukone\",\"singh\",\"nick\",\"jonas\",\"chopra\",\"priyanka\",\"virat\",\"anushka\",\"ginni\"]\n",
        "    \n",
        "    wa,wb,wc = word_vectors[a],word_vectors[b],word_vectors[c]\n",
        "    \n",
        "    #to find d s.t similarity(|b-a|,|d-c|) should be max\n",
        "    \n",
        "    for w in words:\n",
        "        if w in [a,b,c]:\n",
        "            continue\n",
        "        \n",
        "        wv = word_vectors[w]\n",
        "        sim = cosine_similarity([wb-wa],[wv-wc])\n",
        "        \n",
        "        if sim > max_similarity:\n",
        "            max_similarity = sim\n",
        "            d = w\n",
        "    return d"
      ],
      "execution_count": 9,
      "outputs": []
    },
    {
      "cell_type": "code",
      "metadata": {
        "colab": {
          "base_uri": "https://localhost:8080/",
          "height": 35
        },
        "id": "QjV8W4zPkrAl",
        "outputId": "8c02b44b-ff26-4e24-86d3-43e8f58f5bb4"
      },
      "source": [
        "\n",
        "triad = (\"nick\",\"priyanka\",\"virat\")\n",
        "predict_actor(*triad,model)"
      ],
      "execution_count": 10,
      "outputs": [
        {
          "output_type": "execute_result",
          "data": {
            "application/vnd.google.colaboratory.intrinsic+json": {
              "type": "string"
            },
            "text/plain": [
              "'anushka'"
            ]
          },
          "metadata": {
            "tags": []
          },
          "execution_count": 10
        }
      ]
    },
    {
      "cell_type": "code",
      "metadata": {
        "colab": {
          "base_uri": "https://localhost:8080/",
          "height": 35
        },
        "id": "Mu_5Mwelk9Ko",
        "outputId": "9e642204-dc47-4570-f188-d12035ced163"
      },
      "source": [
        "triad = (\"ranveer\",\"padukone\",\"jonas\")\n",
        "predict_actor(*triad,model)"
      ],
      "execution_count": 11,
      "outputs": [
        {
          "output_type": "execute_result",
          "data": {
            "application/vnd.google.colaboratory.intrinsic+json": {
              "type": "string"
            },
            "text/plain": [
              "'priyanka'"
            ]
          },
          "metadata": {
            "tags": []
          },
          "execution_count": 11
        }
      ]
    },
    {
      "cell_type": "code",
      "metadata": {
        "colab": {
          "base_uri": "https://localhost:8080/",
          "height": 35
        },
        "id": "oPsSibDIupTJ",
        "outputId": "c44617fc-802f-4269-f8d4-5ab6140638fc"
      },
      "source": [
        "\n",
        "triad = (\"priyanka\",\"jonas\",\"nick\")\n",
        "predict_actor(*triad,model)"
      ],
      "execution_count": 12,
      "outputs": [
        {
          "output_type": "execute_result",
          "data": {
            "application/vnd.google.colaboratory.intrinsic+json": {
              "type": "string"
            },
            "text/plain": [
              "'chopra'"
            ]
          },
          "metadata": {
            "tags": []
          },
          "execution_count": 12
        }
      ]
    },
    {
      "cell_type": "code",
      "metadata": {
        "colab": {
          "base_uri": "https://localhost:8080/",
          "height": 35
        },
        "id": "DNdwSvH1u8qZ",
        "outputId": "36083788-e19d-4b11-ba08-288ed39ec5e0"
      },
      "source": [
        "triad = (\"deepika\",\"padukone\",\"priyanka\")\n",
        "predict_actor(*triad,model)"
      ],
      "execution_count": 13,
      "outputs": [
        {
          "output_type": "execute_result",
          "data": {
            "application/vnd.google.colaboratory.intrinsic+json": {
              "type": "string"
            },
            "text/plain": [
              "'jonas'"
            ]
          },
          "metadata": {
            "tags": []
          },
          "execution_count": 13
        }
      ]
    },
    {
      "cell_type": "code",
      "metadata": {
        "colab": {
          "base_uri": "https://localhost:8080/",
          "height": 35
        },
        "id": "ZuYrNQjwvGjx",
        "outputId": "86c66615-f093-4cf2-a418-47d385b4a7f3"
      },
      "source": [
        "triad = (\"jonas\",\"priyanka\",\"virat\")\n",
        "predict_actor(*triad,model)"
      ],
      "execution_count": 14,
      "outputs": [
        {
          "output_type": "execute_result",
          "data": {
            "application/vnd.google.colaboratory.intrinsic+json": {
              "type": "string"
            },
            "text/plain": [
              "'anushka'"
            ]
          },
          "metadata": {
            "tags": []
          },
          "execution_count": 14
        }
      ]
    },
    {
      "cell_type": "code",
      "metadata": {
        "colab": {
          "base_uri": "https://localhost:8080/",
          "height": 35
        },
        "id": "_WFAL5xuvQ3Z",
        "outputId": "7479d765-5bae-492d-d5b0-0ff6b86f3143"
      },
      "source": [
        "triad = (\"deepika\",\"priyanka\",\"ranveer\")\n",
        "predict_actor(*triad,model)"
      ],
      "execution_count": 19,
      "outputs": [
        {
          "output_type": "execute_result",
          "data": {
            "application/vnd.google.colaboratory.intrinsic+json": {
              "type": "string"
            },
            "text/plain": [
              "'nick'"
            ]
          },
          "metadata": {
            "tags": []
          },
          "execution_count": 19
        }
      ]
    },
    {
      "cell_type": "code",
      "metadata": {
        "id": "H9jryT4wwl-Q"
      },
      "source": [
        ""
      ],
      "execution_count": null,
      "outputs": []
    }
  ]
}