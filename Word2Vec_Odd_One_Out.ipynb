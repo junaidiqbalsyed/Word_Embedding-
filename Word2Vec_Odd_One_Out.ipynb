{
  "nbformat": 4,
  "nbformat_minor": 0,
  "metadata": {
    "colab": {
      "name": "Word2Vec Odd One Out",
      "provenance": [],
      "collapsed_sections": []
    },
    "kernelspec": {
      "name": "python3",
      "display_name": "Python 3"
    },
    "language_info": {
      "name": "python"
    },
    "accelerator": "GPU"
  },
  "cells": [
    {
      "cell_type": "code",
      "metadata": {
        "id": "3B0JnBVeFnXb"
      },
      "source": [
        "# https://radimrehurek.com/gensim/auto_examples/tutorials/run_word2vec.html"
      ],
      "execution_count": null,
      "outputs": []
    },
    {
      "cell_type": "code",
      "metadata": {
        "id": "nGXd3_MvQKjB"
      },
      "source": [
        "import numpy as np\n",
        "import gensim.downloader as api\n",
        "from sklearn.metrics.pairwise import  cosine_similarity\n",
        "import gensim"
      ],
      "execution_count": 115,
      "outputs": []
    },
    {
      "cell_type": "code",
      "metadata": {
        "id": "moiox8we6h2U"
      },
      "source": [
        "corpus = api.load('word2vec-google-news-300')"
      ],
      "execution_count": 1,
      "outputs": []
    },
    {
      "cell_type": "code",
      "metadata": {
        "colab": {
          "base_uri": "https://localhost:8080/"
        },
        "id": "-TvyUFO2Ow1q",
        "outputId": "e40ac39d-8db8-4762-a5e8-46eb218e0011"
      },
      "source": [
        "v_apple.shape"
      ],
      "execution_count": 44,
      "outputs": [
        {
          "output_type": "execute_result",
          "data": {
            "text/plain": [
              "[(300,)]"
            ]
          },
          "metadata": {
            "tags": []
          },
          "execution_count": 44
        }
      ]
    },
    {
      "cell_type": "code",
      "metadata": {
        "id": "h9excbmuKjpp"
      },
      "source": [
        "v_apple = corpus['apple']\n",
        "v_mango = corpus['mango']"
      ],
      "execution_count": 36,
      "outputs": []
    },
    {
      "cell_type": "code",
      "metadata": {
        "id": "stJiGcIILSkA"
      },
      "source": [
        "def odd_one_out(words):\n",
        "  \"\"\"\n",
        "  input: accepts list of words \n",
        "  output: Returns the odd word \n",
        "  \"\"\"\n",
        "  # so the way this works is we will take an average of all the word \n",
        "  # then compare that with every valu of word \n",
        "  # which ever has the min it is the odd one out \n",
        "\n",
        "\n",
        "  all_words_vectors = [ corpus[w] for w in words ]\n",
        "\n",
        "  avg = np.mean(all_words_vectors, axis= 0)\n",
        "\n",
        "\n",
        "  min = np.argmin([cosine_similarity([corpus[w]], [avg]) for w in words])\n",
        "\n",
        "  \n",
        "  return  words[min]"
      ],
      "execution_count": 86,
      "outputs": []
    },
    {
      "cell_type": "code",
      "metadata": {
        "colab": {
          "base_uri": "https://localhost:8080/"
        },
        "id": "USchx12yRXHZ",
        "outputId": "04eaaad8-536a-42a2-de63-d572809e12c7"
      },
      "source": [
        "input1 = ['apple', 'Nokia','Samsung','Apple']\n",
        "output = odd_one_out(input1)\n",
        "print(output)"
      ],
      "execution_count": 112,
      "outputs": [
        {
          "output_type": "stream",
          "text": [
            "apple\n"
          ],
          "name": "stdout"
        }
      ]
    },
    {
      "cell_type": "code",
      "metadata": {
        "id": "6VIwyF5oXKUu"
      },
      "source": [
        "# https://radimrehurek.com/gensim/models/word2vec.html"
      ],
      "execution_count": 113,
      "outputs": []
    },
    {
      "cell_type": "code",
      "metadata": {
        "colab": {
          "base_uri": "https://localhost:8080/"
        },
        "id": "NDLd7Uv3RsQ5",
        "outputId": "68dbb47d-d77f-48c7-948c-58e7276daf46"
      },
      "source": [
        "# Show all available models in gensim-data\n",
        "list(gensim.downloader.info()['models'].keys())"
      ],
      "execution_count": 117,
      "outputs": [
        {
          "output_type": "execute_result",
          "data": {
            "text/plain": [
              "['fasttext-wiki-news-subwords-300',\n",
              " 'conceptnet-numberbatch-17-06-300',\n",
              " 'word2vec-ruscorpora-300',\n",
              " 'word2vec-google-news-300',\n",
              " 'glove-wiki-gigaword-50',\n",
              " 'glove-wiki-gigaword-100',\n",
              " 'glove-wiki-gigaword-200',\n",
              " 'glove-wiki-gigaword-300',\n",
              " 'glove-twitter-25',\n",
              " 'glove-twitter-50',\n",
              " 'glove-twitter-100',\n",
              " 'glove-twitter-200',\n",
              " '__testing_word2vec-matrix-synopsis']"
            ]
          },
          "metadata": {
            "tags": []
          },
          "execution_count": 117
        }
      ]
    },
    {
      "cell_type": "code",
      "metadata": {
        "id": "IG4ouILCXMwK"
      },
      "source": [
        ""
      ],
      "execution_count": null,
      "outputs": []
    }
  ]
}